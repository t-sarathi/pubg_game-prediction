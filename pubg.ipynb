{
 "cells": [
  {
   "cell_type": "markdown",
   "id": "ea807044-f3be-4ce8-bb43-f81f05d44ea3",
   "metadata": {},
   "source": [
    "# <center><font color='Yellow'> PUBG Game Prediction </font></center>"
   ]
  },
  {
   "cell_type": "markdown",
   "id": "474a462e-7bf4-45cf-b9fa-9cf554676758",
   "metadata": {},
   "source": [
    "### Table content "
   ]
  },
  {
   "cell_type": "code",
   "execution_count": null,
   "id": "ac9ecc20-695c-4199-a494-f1b17e58b555",
   "metadata": {},
   "outputs": [],
   "source": []
  },
  {
   "cell_type": "markdown",
   "id": "0359a8b0-e198-42f3-bec7-13117d604c2f",
   "metadata": {},
   "source": [
    "## Importing Libraries :"
   ]
  },
  {
   "cell_type": "code",
   "execution_count": 1,
   "id": "d0cd5b87-01f7-444b-9c36-0496b691037a",
   "metadata": {},
   "outputs": [],
   "source": [
    "import numpy as np\n",
    "import warnings\n",
    "import pandas as pd\n",
    "import seaborn as sns\n",
    "import matplotlib.pyplot as plt\n",
    "import catboost as cb\n",
    "from sklearn.model_selection import train_test_split\n",
    "from sklearn.preprocessing import StandardScaler\n",
    "from sklearn.metrics import mean_squared_error,r2_score"
   ]
  },
  {
   "cell_type": "markdown",
   "id": "0ea0f66b-6b12-4130-a46f-f4840ca5a130",
   "metadata": {},
   "source": [
    "## loading the Data:"
   ]
  },
  {
   "cell_type": "code",
   "execution_count": 2,
   "id": "bedf52db-47dd-4e74-9a23-9bc93d7d2c34",
   "metadata": {},
   "outputs": [],
   "source": [
    "df=pd.read_csv(\"PUBG_Game_Prediction_data.csv\")"
   ]
  },
  {
   "cell_type": "code",
   "execution_count": 3,
   "id": "fea6e176-3504-423b-8ea1-29f55ca519fb",
   "metadata": {},
   "outputs": [
    {
     "data": {
      "text/html": [
       "<div>\n",
       "<style scoped>\n",
       "    .dataframe tbody tr th:only-of-type {\n",
       "        vertical-align: middle;\n",
       "    }\n",
       "\n",
       "    .dataframe tbody tr th {\n",
       "        vertical-align: top;\n",
       "    }\n",
       "\n",
       "    .dataframe thead th {\n",
       "        text-align: right;\n",
       "    }\n",
       "</style>\n",
       "<table border=\"1\" class=\"dataframe\">\n",
       "  <thead>\n",
       "    <tr style=\"text-align: right;\">\n",
       "      <th></th>\n",
       "      <th>Id</th>\n",
       "      <th>groupId</th>\n",
       "      <th>matchId</th>\n",
       "      <th>assists</th>\n",
       "      <th>boosts</th>\n",
       "      <th>damageDealt</th>\n",
       "      <th>DBNOs</th>\n",
       "      <th>headshotKills</th>\n",
       "      <th>heals</th>\n",
       "      <th>killPlace</th>\n",
       "      <th>...</th>\n",
       "      <th>revives</th>\n",
       "      <th>rideDistance</th>\n",
       "      <th>roadKills</th>\n",
       "      <th>swimDistance</th>\n",
       "      <th>teamKills</th>\n",
       "      <th>vehicleDestroys</th>\n",
       "      <th>walkDistance</th>\n",
       "      <th>weaponsAcquired</th>\n",
       "      <th>winPoints</th>\n",
       "      <th>winPlacePerc</th>\n",
       "    </tr>\n",
       "  </thead>\n",
       "  <tbody>\n",
       "    <tr>\n",
       "      <th>0</th>\n",
       "      <td>7f96b2f878858a</td>\n",
       "      <td>4d4b580de459be</td>\n",
       "      <td>a10357fd1a4a91</td>\n",
       "      <td>0</td>\n",
       "      <td>0</td>\n",
       "      <td>0.00</td>\n",
       "      <td>0</td>\n",
       "      <td>0</td>\n",
       "      <td>0</td>\n",
       "      <td>60</td>\n",
       "      <td>...</td>\n",
       "      <td>0</td>\n",
       "      <td>0.0000</td>\n",
       "      <td>0</td>\n",
       "      <td>0.00</td>\n",
       "      <td>0</td>\n",
       "      <td>0</td>\n",
       "      <td>244.8</td>\n",
       "      <td>1</td>\n",
       "      <td>1466</td>\n",
       "      <td>0.4444</td>\n",
       "    </tr>\n",
       "    <tr>\n",
       "      <th>1</th>\n",
       "      <td>eef90569b9d03c</td>\n",
       "      <td>684d5656442f9e</td>\n",
       "      <td>aeb375fc57110c</td>\n",
       "      <td>0</td>\n",
       "      <td>0</td>\n",
       "      <td>91.47</td>\n",
       "      <td>0</td>\n",
       "      <td>0</td>\n",
       "      <td>0</td>\n",
       "      <td>57</td>\n",
       "      <td>...</td>\n",
       "      <td>0</td>\n",
       "      <td>0.0045</td>\n",
       "      <td>0</td>\n",
       "      <td>11.04</td>\n",
       "      <td>0</td>\n",
       "      <td>0</td>\n",
       "      <td>1434.0</td>\n",
       "      <td>5</td>\n",
       "      <td>0</td>\n",
       "      <td>0.6400</td>\n",
       "    </tr>\n",
       "  </tbody>\n",
       "</table>\n",
       "<p>2 rows × 29 columns</p>\n",
       "</div>"
      ],
      "text/plain": [
       "               Id         groupId         matchId  assists  boosts  \\\n",
       "0  7f96b2f878858a  4d4b580de459be  a10357fd1a4a91        0       0   \n",
       "1  eef90569b9d03c  684d5656442f9e  aeb375fc57110c        0       0   \n",
       "\n",
       "   damageDealt  DBNOs  headshotKills  heals  killPlace  ...  revives  \\\n",
       "0         0.00      0              0      0         60  ...        0   \n",
       "1        91.47      0              0      0         57  ...        0   \n",
       "\n",
       "   rideDistance  roadKills  swimDistance  teamKills vehicleDestroys  \\\n",
       "0        0.0000          0          0.00          0               0   \n",
       "1        0.0045          0         11.04          0               0   \n",
       "\n",
       "   walkDistance  weaponsAcquired  winPoints  winPlacePerc  \n",
       "0         244.8                1       1466        0.4444  \n",
       "1        1434.0                5          0        0.6400  \n",
       "\n",
       "[2 rows x 29 columns]"
      ]
     },
     "execution_count": 3,
     "metadata": {},
     "output_type": "execute_result"
    }
   ],
   "source": [
    "# glimpse of the data:\n",
    "df.head(2)"
   ]
  },
  {
   "cell_type": "code",
   "execution_count": 4,
   "id": "9f827393-592c-434b-9deb-f0006c1ce174",
   "metadata": {},
   "outputs": [
    {
     "data": {
      "text/plain": [
       "(4446966, 29)"
      ]
     },
     "execution_count": 4,
     "metadata": {},
     "output_type": "execute_result"
    }
   ],
   "source": [
    "#data dimension:\n",
    "df.shape"
   ]
  },
  {
   "cell_type": "code",
   "execution_count": 5,
   "id": "bddaa259-f81a-4842-a0e6-1e7c3ea9ed2a",
   "metadata": {},
   "outputs": [
    {
     "name": "stdout",
     "output_type": "stream",
     "text": [
      "<class 'pandas.core.frame.DataFrame'>\n",
      "RangeIndex: 4446966 entries, 0 to 4446965\n",
      "Data columns (total 29 columns):\n",
      " #   Column           Dtype  \n",
      "---  ------           -----  \n",
      " 0   Id               object \n",
      " 1   groupId          object \n",
      " 2   matchId          object \n",
      " 3   assists          int64  \n",
      " 4   boosts           int64  \n",
      " 5   damageDealt      float64\n",
      " 6   DBNOs            int64  \n",
      " 7   headshotKills    int64  \n",
      " 8   heals            int64  \n",
      " 9   killPlace        int64  \n",
      " 10  killPoints       int64  \n",
      " 11  kills            int64  \n",
      " 12  killStreaks      int64  \n",
      " 13  longestKill      float64\n",
      " 14  matchDuration    int64  \n",
      " 15  matchType        object \n",
      " 16  maxPlace         int64  \n",
      " 17  numGroups        int64  \n",
      " 18  rankPoints       int64  \n",
      " 19  revives          int64  \n",
      " 20  rideDistance     float64\n",
      " 21  roadKills        int64  \n",
      " 22  swimDistance     float64\n",
      " 23  teamKills        int64  \n",
      " 24  vehicleDestroys  int64  \n",
      " 25  walkDistance     float64\n",
      " 26  weaponsAcquired  int64  \n",
      " 27  winPoints        int64  \n",
      " 28  winPlacePerc     float64\n",
      "dtypes: float64(6), int64(19), object(4)\n",
      "memory usage: 983.9+ MB\n"
     ]
    }
   ],
   "source": [
    "df.info()"
   ]
  },
  {
   "cell_type": "markdown",
   "id": "33d054ad-8624-4e75-bbc5-630c2d20db14",
   "metadata": {},
   "source": [
    "### Data Descriptation:"
   ]
  },
  {
   "cell_type": "markdown",
   "id": "30cfa448-107a-439e-9b4e-6a82f8d6c002",
   "metadata": {},
   "source": [
    "### Data Description\n",
    "\n",
    "1. **DBNOs** - Number of enemy players knocked.\n",
    "2. **assists** - Number of enemy players this player damaged that were killed by teammates.\n",
    "3. **boosts** - Number of boost items used.\n",
    "4. **damageDealt** - Total damage dealt. Note: Self inflicted damage is subtracted.\n",
    "5. **headshotKills** - Number of enemy players killed with headshots.\n",
    "6. **heals** - Number of healing items used.\n",
    "7. **Id** - Player’s Id.\n",
    "8. **killPlace** - Ranking in match of number of enemy players killed.\n",
    "9. **killPoints** - Kills-based external ranking of player. (Think of this as an Elo ranking where only kills matter.) If there is a value other than -1 in rankPoints, then any 0 in killPoints should be treated as a “None”.\n",
    "10. **killStreaks** - Max number of enemy players killed in a short amount of time.\n",
    "11. **kills** - Number of enemy players killed.\n",
    "12. **longestKill** - Longest distance between player and player killed at time of death. This may be misleading, as downing a player and driving away may lead to a large longestKill stat.\n",
    "13. **matchDuration** - Duration of match in seconds.\n",
    "14. **matchId** - ID to identify match. There are no matches that are in both the training and testing set.\n",
    "15. **matchType** - String identifying the game mode that the data comes from. The standard modes are “solo”, “duo”, “squad”, “solo-fpp”, “duo-fpp”, and “squad-fpp”; other modes are from events or custom matches.\n",
    "16. **rankPoints** - Elo-like ranking of player. This ranking is inconsistent and is being deprecated in the API’s next version, so use with caution. Value of -1 takes place of “None”.\n",
    "17. **revives** - Number of times this player revived teammates.\n",
    "18. **rideDistance** - Total distance traveled in vehicles measured in meters.\n",
    "19. **roadKills** - Number of kills while in a vehicle.\n",
    "20. **swimDistance** - Total distance traveled by swimming measured in meters.\n",
    "21. **teamKills** - Number of times this player killed a teammate.\n",
    "22. **vehicleDestroys** - Number of vehicles destroyed.\n",
    "23. **walkDistance** - Total distance traveled on foot measured in meters.\n",
    "24. **weaponsAcquired** - Number of weapons picked up.\n",
    "25. **winPoints** - Win-based external ranking of player. (Think of this as an Elo ranking where only winning matters.) If there is a value other than -1 in rankPoints, then any 0 in winPoints should be treated as a “None”.\n",
    "26. **groupId** - ID to identify a group within a match. If the same group of players plays in different matches, they will have a different groupId each time.\n",
    "27. **numGroups** - Number of groups we have data for in the match.\n",
    "28. **maxPlace** - Worst placement we have data for in the match. This may not match with numGroups, as sometimes the data skips over placements.\n",
    "29. **winPlacePerc** - The target of prediction. This is a percentile winning placement, where 1 corresponds to 1st place, and 0 corresponds to last place in the match. It is calculated off of maxPlace, not numGroups, so it is possible to have missing chunks in a match.\n"
   ]
  },
  {
   "cell_type": "markdown",
   "id": "7aef40aa-03cd-4c51-abc6-52271305eb39",
   "metadata": {},
   "source": [
    "## data wrangling: "
   ]
  },
  {
   "cell_type": "markdown",
   "id": "7c766077-c79b-48fa-b3d6-dbf491c55210",
   "metadata": {},
   "source": [
    "### Check the rows with  any null values in the winPlacePerc col:\n"
   ]
  },
  {
   "cell_type": "code",
   "execution_count": 6,
   "id": "7bd77445-7c64-4a91-a913-06997172637c",
   "metadata": {},
   "outputs": [
    {
     "data": {
      "text/html": [
       "<div>\n",
       "<style scoped>\n",
       "    .dataframe tbody tr th:only-of-type {\n",
       "        vertical-align: middle;\n",
       "    }\n",
       "\n",
       "    .dataframe tbody tr th {\n",
       "        vertical-align: top;\n",
       "    }\n",
       "\n",
       "    .dataframe thead th {\n",
       "        text-align: right;\n",
       "    }\n",
       "</style>\n",
       "<table border=\"1\" class=\"dataframe\">\n",
       "  <thead>\n",
       "    <tr style=\"text-align: right;\">\n",
       "      <th></th>\n",
       "      <th>Id</th>\n",
       "      <th>groupId</th>\n",
       "      <th>matchId</th>\n",
       "      <th>assists</th>\n",
       "      <th>boosts</th>\n",
       "      <th>damageDealt</th>\n",
       "      <th>DBNOs</th>\n",
       "      <th>headshotKills</th>\n",
       "      <th>heals</th>\n",
       "      <th>killPlace</th>\n",
       "      <th>...</th>\n",
       "      <th>revives</th>\n",
       "      <th>rideDistance</th>\n",
       "      <th>roadKills</th>\n",
       "      <th>swimDistance</th>\n",
       "      <th>teamKills</th>\n",
       "      <th>vehicleDestroys</th>\n",
       "      <th>walkDistance</th>\n",
       "      <th>weaponsAcquired</th>\n",
       "      <th>winPoints</th>\n",
       "      <th>winPlacePerc</th>\n",
       "    </tr>\n",
       "  </thead>\n",
       "  <tbody>\n",
       "    <tr>\n",
       "      <th>2744604</th>\n",
       "      <td>f70c74418bb064</td>\n",
       "      <td>12dfbede33f92b</td>\n",
       "      <td>224a123c53e008</td>\n",
       "      <td>0</td>\n",
       "      <td>0</td>\n",
       "      <td>0.0</td>\n",
       "      <td>0</td>\n",
       "      <td>0</td>\n",
       "      <td>0</td>\n",
       "      <td>1</td>\n",
       "      <td>...</td>\n",
       "      <td>0</td>\n",
       "      <td>0.0</td>\n",
       "      <td>0</td>\n",
       "      <td>0.0</td>\n",
       "      <td>0</td>\n",
       "      <td>0</td>\n",
       "      <td>0.0</td>\n",
       "      <td>0</td>\n",
       "      <td>0</td>\n",
       "      <td>NaN</td>\n",
       "    </tr>\n",
       "  </tbody>\n",
       "</table>\n",
       "<p>1 rows × 29 columns</p>\n",
       "</div>"
      ],
      "text/plain": [
       "                     Id         groupId         matchId  assists  boosts  \\\n",
       "2744604  f70c74418bb064  12dfbede33f92b  224a123c53e008        0       0   \n",
       "\n",
       "         damageDealt  DBNOs  headshotKills  heals  killPlace  ...  revives  \\\n",
       "2744604          0.0      0              0      0          1  ...        0   \n",
       "\n",
       "         rideDistance  roadKills  swimDistance  teamKills vehicleDestroys  \\\n",
       "2744604           0.0          0           0.0          0               0   \n",
       "\n",
       "         walkDistance  weaponsAcquired  winPoints  winPlacePerc  \n",
       "2744604           0.0                0          0           NaN  \n",
       "\n",
       "[1 rows x 29 columns]"
      ]
     },
     "execution_count": 6,
     "metadata": {},
     "output_type": "execute_result"
    }
   ],
   "source": [
    "df[df['winPlacePerc'].isnull()]"
   ]
  },
  {
   "cell_type": "code",
   "execution_count": 7,
   "id": "0ea6d0f4-9b80-4900-a0ff-b0a2892a6d12",
   "metadata": {},
   "outputs": [],
   "source": [
    "# drop that column:\n",
    "df.drop(2744604,inplace=True)"
   ]
  },
  {
   "cell_type": "code",
   "execution_count": 8,
   "id": "9badd901-ea71-41b0-a5d1-52c8de5dd4a0",
   "metadata": {},
   "outputs": [
    {
     "data": {
      "text/html": [
       "<div>\n",
       "<style scoped>\n",
       "    .dataframe tbody tr th:only-of-type {\n",
       "        vertical-align: middle;\n",
       "    }\n",
       "\n",
       "    .dataframe tbody tr th {\n",
       "        vertical-align: top;\n",
       "    }\n",
       "\n",
       "    .dataframe thead th {\n",
       "        text-align: right;\n",
       "    }\n",
       "</style>\n",
       "<table border=\"1\" class=\"dataframe\">\n",
       "  <thead>\n",
       "    <tr style=\"text-align: right;\">\n",
       "      <th></th>\n",
       "      <th>Id</th>\n",
       "      <th>groupId</th>\n",
       "      <th>matchId</th>\n",
       "      <th>assists</th>\n",
       "      <th>boosts</th>\n",
       "      <th>damageDealt</th>\n",
       "      <th>DBNOs</th>\n",
       "      <th>headshotKills</th>\n",
       "      <th>heals</th>\n",
       "      <th>killPlace</th>\n",
       "      <th>...</th>\n",
       "      <th>revives</th>\n",
       "      <th>rideDistance</th>\n",
       "      <th>roadKills</th>\n",
       "      <th>swimDistance</th>\n",
       "      <th>teamKills</th>\n",
       "      <th>vehicleDestroys</th>\n",
       "      <th>walkDistance</th>\n",
       "      <th>weaponsAcquired</th>\n",
       "      <th>winPoints</th>\n",
       "      <th>winPlacePerc</th>\n",
       "    </tr>\n",
       "  </thead>\n",
       "  <tbody>\n",
       "  </tbody>\n",
       "</table>\n",
       "<p>0 rows × 29 columns</p>\n",
       "</div>"
      ],
      "text/plain": [
       "Empty DataFrame\n",
       "Columns: [Id, groupId, matchId, assists, boosts, damageDealt, DBNOs, headshotKills, heals, killPlace, killPoints, kills, killStreaks, longestKill, matchDuration, matchType, maxPlace, numGroups, rankPoints, revives, rideDistance, roadKills, swimDistance, teamKills, vehicleDestroys, walkDistance, weaponsAcquired, winPoints, winPlacePerc]\n",
       "Index: []\n",
       "\n",
       "[0 rows x 29 columns]"
      ]
     },
     "execution_count": 8,
     "metadata": {},
     "output_type": "execute_result"
    }
   ],
   "source": [
    "df[df['winPlacePerc'].isnull()]"
   ]
  },
  {
   "cell_type": "markdown",
   "id": "e4ff395f-d93c-4a3b-9682-4a6128e6c4f6",
   "metadata": {},
   "source": [
    "### Create a new feature to see how many players joined in each particular match :"
   ]
  },
  {
   "cell_type": "markdown",
   "id": "c8dc65d2-df30-4793-b12d-5e8cb0152f04",
   "metadata": {},
   "source": [
    "The column named 'matchId' is unique for every player who participated in a particular match. By applying the group by function on matchId, we can calculate the number of players who joined each specific match."
   ]
  },
  {
   "cell_type": "code",
   "execution_count": 9,
   "id": "8ebf4f4a-8dd0-4cd9-b776-cd5df6ea444d",
   "metadata": {},
   "outputs": [],
   "source": [
    "players_count=df['matchId'].value_counts()\n",
    "df['playerCount'] = df['matchId'].map(players_count)\n"
   ]
  },
  {
   "cell_type": "code",
   "execution_count": 10,
   "id": "da5504a7-1000-4418-8300-b087d83789f8",
   "metadata": {},
   "outputs": [
    {
     "data": {
      "text/html": [
       "<div>\n",
       "<style scoped>\n",
       "    .dataframe tbody tr th:only-of-type {\n",
       "        vertical-align: middle;\n",
       "    }\n",
       "\n",
       "    .dataframe tbody tr th {\n",
       "        vertical-align: top;\n",
       "    }\n",
       "\n",
       "    .dataframe thead th {\n",
       "        text-align: right;\n",
       "    }\n",
       "</style>\n",
       "<table border=\"1\" class=\"dataframe\">\n",
       "  <thead>\n",
       "    <tr style=\"text-align: right;\">\n",
       "      <th></th>\n",
       "      <th>Id</th>\n",
       "      <th>groupId</th>\n",
       "      <th>matchId</th>\n",
       "      <th>assists</th>\n",
       "      <th>boosts</th>\n",
       "      <th>damageDealt</th>\n",
       "      <th>DBNOs</th>\n",
       "      <th>headshotKills</th>\n",
       "      <th>heals</th>\n",
       "      <th>killPlace</th>\n",
       "      <th>...</th>\n",
       "      <th>rideDistance</th>\n",
       "      <th>roadKills</th>\n",
       "      <th>swimDistance</th>\n",
       "      <th>teamKills</th>\n",
       "      <th>vehicleDestroys</th>\n",
       "      <th>walkDistance</th>\n",
       "      <th>weaponsAcquired</th>\n",
       "      <th>winPoints</th>\n",
       "      <th>winPlacePerc</th>\n",
       "      <th>playerCount</th>\n",
       "    </tr>\n",
       "  </thead>\n",
       "  <tbody>\n",
       "    <tr>\n",
       "      <th>0</th>\n",
       "      <td>7f96b2f878858a</td>\n",
       "      <td>4d4b580de459be</td>\n",
       "      <td>a10357fd1a4a91</td>\n",
       "      <td>0</td>\n",
       "      <td>0</td>\n",
       "      <td>0.00</td>\n",
       "      <td>0</td>\n",
       "      <td>0</td>\n",
       "      <td>0</td>\n",
       "      <td>60</td>\n",
       "      <td>...</td>\n",
       "      <td>0.0000</td>\n",
       "      <td>0</td>\n",
       "      <td>0.00</td>\n",
       "      <td>0</td>\n",
       "      <td>0</td>\n",
       "      <td>244.8</td>\n",
       "      <td>1</td>\n",
       "      <td>1466</td>\n",
       "      <td>0.4444</td>\n",
       "      <td>96</td>\n",
       "    </tr>\n",
       "    <tr>\n",
       "      <th>1</th>\n",
       "      <td>eef90569b9d03c</td>\n",
       "      <td>684d5656442f9e</td>\n",
       "      <td>aeb375fc57110c</td>\n",
       "      <td>0</td>\n",
       "      <td>0</td>\n",
       "      <td>91.47</td>\n",
       "      <td>0</td>\n",
       "      <td>0</td>\n",
       "      <td>0</td>\n",
       "      <td>57</td>\n",
       "      <td>...</td>\n",
       "      <td>0.0045</td>\n",
       "      <td>0</td>\n",
       "      <td>11.04</td>\n",
       "      <td>0</td>\n",
       "      <td>0</td>\n",
       "      <td>1434.0</td>\n",
       "      <td>5</td>\n",
       "      <td>0</td>\n",
       "      <td>0.6400</td>\n",
       "      <td>91</td>\n",
       "    </tr>\n",
       "  </tbody>\n",
       "</table>\n",
       "<p>2 rows × 30 columns</p>\n",
       "</div>"
      ],
      "text/plain": [
       "               Id         groupId         matchId  assists  boosts  \\\n",
       "0  7f96b2f878858a  4d4b580de459be  a10357fd1a4a91        0       0   \n",
       "1  eef90569b9d03c  684d5656442f9e  aeb375fc57110c        0       0   \n",
       "\n",
       "   damageDealt  DBNOs  headshotKills  heals  killPlace  ...  rideDistance  \\\n",
       "0         0.00      0              0      0         60  ...        0.0000   \n",
       "1        91.47      0              0      0         57  ...        0.0045   \n",
       "\n",
       "   roadKills  swimDistance  teamKills  vehicleDestroys walkDistance  \\\n",
       "0          0          0.00          0                0        244.8   \n",
       "1          0         11.04          0                0       1434.0   \n",
       "\n",
       "   weaponsAcquired  winPoints  winPlacePerc  playerCount  \n",
       "0                1       1466        0.4444           96  \n",
       "1                5          0        0.6400           91  \n",
       "\n",
       "[2 rows x 30 columns]"
      ]
     },
     "execution_count": 10,
     "metadata": {},
     "output_type": "execute_result"
    }
   ],
   "source": [
    "df.head(2)"
   ]
  },
  {
   "cell_type": "code",
   "execution_count": 11,
   "id": "c277c5f1-f746-48ee-9f3b-0788246abbae",
   "metadata": {},
   "outputs": [
    {
     "name": "stderr",
     "output_type": "stream",
     "text": [
      "C:\\Users\\Tirtha Ghosh\\anaconda3\\Lib\\site-packages\\seaborn\\_oldcore.py:1119: FutureWarning: use_inf_as_na option is deprecated and will be removed in a future version. Convert inf values to NaN before operating instead.\n",
      "  with pd.option_context('mode.use_inf_as_na', True):\n"
     ]
    },
    {
     "data": {
      "image/png": "[encoded data removed]",
      "text/plain": [
       "<Figure size 640x480 with 1 Axes>"
      ]
     },
     "metadata": {},
     "output_type": "display_data"
    }
   ],
   "source": [
    "filtered_data = df[df['playerCount'] >= 0]\n",
    "sns.histplot(filtered_data['playerCount'], bins=100)  \n",
    "plt.xlabel('player Count')\n",
    "plt.ylabel('Count')\n",
    "plt.title('Distribution of Players Joined (>= 75)')\n",
    "plt.show()"
   ]
  },
  {
   "cell_type": "markdown",
   "id": "5d57af49-7756-4423-a460-ff47f70fd960",
   "metadata": {},
   "source": [
    "This distribution indicates that most matches have more than 75 players. Additionally, the distribution of the playerCount feature is left-skewed."
   ]
  },
  {
   "cell_type": "markdown",
   "id": "436a6ca4-714f-4599-ba99-2b595c6737f7",
   "metadata": {},
   "source": [
    "## understand the data:"
   ]
  },
  {
   "cell_type": "markdown",
   "id": "82c0adfc-efe7-4251-9a58-5e2ddb707d44",
   "metadata": {},
   "source": [
    "#### Kills without moving :"
   ]
  },
  {
   "cell_type": "markdown",
   "id": "6be93257-8557-4b86-970c-3f0329105f0f",
   "metadata": {},
   "source": [
    "In the dataset, we create a new feature called 'totalDistance' by combining swimDistance, walkDistance, and rideDistance. If a player has a kill >=0 without any movement, it indicates that they may be using a cheat code or mod. We do not want to train our model on such instances, so our goal is to identify and remove these entries from the dataset."
   ]
  },
  {
   "cell_type": "code",
   "execution_count": 12,
   "id": "70573cee-421c-4e05-8f90-ffb0851d216f",
   "metadata": {},
   "outputs": [],
   "source": [
    "df['totalDistance']=df['swimDistance']+df['rideDistance']+df['walkDistance']"
   ]
  },
  {
   "cell_type": "code",
   "execution_count": 13,
   "id": "14e89286-5c1f-458c-aca1-2b641b38bfee",
   "metadata": {},
   "outputs": [],
   "source": [
    "df['killswithoutMoving'] = ((df['kills']>0) & (df['totalDistance'] ==0))"
   ]
  },
  {
   "cell_type": "code",
   "execution_count": 14,
   "id": "4806a5b8-fb73-47b0-b785-bbb8301ed586",
   "metadata": {},
   "outputs": [
    {
     "data": {
      "text/plain": [
       "(1535, 32)"
      ]
     },
     "execution_count": 14,
     "metadata": {},
     "output_type": "execute_result"
    }
   ],
   "source": [
    "df[df['killswithoutMoving']==True].shape"
   ]
  },
  {
   "cell_type": "code",
   "execution_count": 15,
   "id": "c8aebe75-1d7b-4180-8b74-4aec6c234ce1",
   "metadata": {},
   "outputs": [
    {
     "data": {
      "text/html": [
       "<div>\n",
       "<style scoped>\n",
       "    .dataframe tbody tr th:only-of-type {\n",
       "        vertical-align: middle;\n",
       "    }\n",
       "\n",
       "    .dataframe tbody tr th {\n",
       "        vertical-align: top;\n",
       "    }\n",
       "\n",
       "    .dataframe thead th {\n",
       "        text-align: right;\n",
       "    }\n",
       "</style>\n",
       "<table border=\"1\" class=\"dataframe\">\n",
       "  <thead>\n",
       "    <tr style=\"text-align: right;\">\n",
       "      <th></th>\n",
       "      <th>Id</th>\n",
       "      <th>groupId</th>\n",
       "      <th>matchId</th>\n",
       "      <th>assists</th>\n",
       "      <th>boosts</th>\n",
       "      <th>damageDealt</th>\n",
       "      <th>DBNOs</th>\n",
       "      <th>headshotKills</th>\n",
       "      <th>heals</th>\n",
       "      <th>killPlace</th>\n",
       "      <th>...</th>\n",
       "      <th>swimDistance</th>\n",
       "      <th>teamKills</th>\n",
       "      <th>vehicleDestroys</th>\n",
       "      <th>walkDistance</th>\n",
       "      <th>weaponsAcquired</th>\n",
       "      <th>winPoints</th>\n",
       "      <th>winPlacePerc</th>\n",
       "      <th>playerCount</th>\n",
       "      <th>totalDistance</th>\n",
       "      <th>killswithoutMoving</th>\n",
       "    </tr>\n",
       "  </thead>\n",
       "  <tbody>\n",
       "    <tr>\n",
       "      <th>1824</th>\n",
       "      <td>b538d514ef2476</td>\n",
       "      <td>0eb2ce2f43f9d6</td>\n",
       "      <td>35e7d750e442e2</td>\n",
       "      <td>0</td>\n",
       "      <td>0</td>\n",
       "      <td>593.0</td>\n",
       "      <td>0</td>\n",
       "      <td>0</td>\n",
       "      <td>3</td>\n",
       "      <td>18</td>\n",
       "      <td>...</td>\n",
       "      <td>0.0</td>\n",
       "      <td>0</td>\n",
       "      <td>0</td>\n",
       "      <td>0.0</td>\n",
       "      <td>8</td>\n",
       "      <td>0</td>\n",
       "      <td>0.8571</td>\n",
       "      <td>58</td>\n",
       "      <td>0.0</td>\n",
       "      <td>True</td>\n",
       "    </tr>\n",
       "    <tr>\n",
       "      <th>6673</th>\n",
       "      <td>6d3a61da07b7cb</td>\n",
       "      <td>2d8119b1544f87</td>\n",
       "      <td>904cecf36217df</td>\n",
       "      <td>2</td>\n",
       "      <td>0</td>\n",
       "      <td>346.6</td>\n",
       "      <td>0</td>\n",
       "      <td>0</td>\n",
       "      <td>6</td>\n",
       "      <td>33</td>\n",
       "      <td>...</td>\n",
       "      <td>0.0</td>\n",
       "      <td>0</td>\n",
       "      <td>0</td>\n",
       "      <td>0.0</td>\n",
       "      <td>22</td>\n",
       "      <td>0</td>\n",
       "      <td>0.6000</td>\n",
       "      <td>42</td>\n",
       "      <td>0.0</td>\n",
       "      <td>True</td>\n",
       "    </tr>\n",
       "    <tr>\n",
       "      <th>11892</th>\n",
       "      <td>550398a8f33db7</td>\n",
       "      <td>c3fd0e2abab0af</td>\n",
       "      <td>db6f6d1f0d4904</td>\n",
       "      <td>2</td>\n",
       "      <td>0</td>\n",
       "      <td>1750.0</td>\n",
       "      <td>0</td>\n",
       "      <td>4</td>\n",
       "      <td>5</td>\n",
       "      <td>3</td>\n",
       "      <td>...</td>\n",
       "      <td>0.0</td>\n",
       "      <td>0</td>\n",
       "      <td>0</td>\n",
       "      <td>0.0</td>\n",
       "      <td>13</td>\n",
       "      <td>0</td>\n",
       "      <td>0.8947</td>\n",
       "      <td>21</td>\n",
       "      <td>0.0</td>\n",
       "      <td>True</td>\n",
       "    </tr>\n",
       "    <tr>\n",
       "      <th>14631</th>\n",
       "      <td>58d690ee461e9d</td>\n",
       "      <td>ea5b6630b33d67</td>\n",
       "      <td>dbf34301df5e53</td>\n",
       "      <td>0</td>\n",
       "      <td>0</td>\n",
       "      <td>157.8</td>\n",
       "      <td>0</td>\n",
       "      <td>0</td>\n",
       "      <td>0</td>\n",
       "      <td>69</td>\n",
       "      <td>...</td>\n",
       "      <td>0.0</td>\n",
       "      <td>0</td>\n",
       "      <td>0</td>\n",
       "      <td>0.0</td>\n",
       "      <td>7</td>\n",
       "      <td>1500</td>\n",
       "      <td>0.0000</td>\n",
       "      <td>73</td>\n",
       "      <td>0.0</td>\n",
       "      <td>True</td>\n",
       "    </tr>\n",
       "    <tr>\n",
       "      <th>15591</th>\n",
       "      <td>49b61fc963d632</td>\n",
       "      <td>0f5c5f19d9cc21</td>\n",
       "      <td>904cecf36217df</td>\n",
       "      <td>0</td>\n",
       "      <td>0</td>\n",
       "      <td>100.0</td>\n",
       "      <td>0</td>\n",
       "      <td>1</td>\n",
       "      <td>0</td>\n",
       "      <td>37</td>\n",
       "      <td>...</td>\n",
       "      <td>0.0</td>\n",
       "      <td>0</td>\n",
       "      <td>0</td>\n",
       "      <td>0.0</td>\n",
       "      <td>10</td>\n",
       "      <td>0</td>\n",
       "      <td>0.3000</td>\n",
       "      <td>42</td>\n",
       "      <td>0.0</td>\n",
       "      <td>True</td>\n",
       "    </tr>\n",
       "  </tbody>\n",
       "</table>\n",
       "<p>5 rows × 32 columns</p>\n",
       "</div>"
      ],
      "text/plain": [
       "                   Id         groupId         matchId  assists  boosts  \\\n",
       "1824   b538d514ef2476  0eb2ce2f43f9d6  35e7d750e442e2        0       0   \n",
       "6673   6d3a61da07b7cb  2d8119b1544f87  904cecf36217df        2       0   \n",
       "11892  550398a8f33db7  c3fd0e2abab0af  db6f6d1f0d4904        2       0   \n",
       "14631  58d690ee461e9d  ea5b6630b33d67  dbf34301df5e53        0       0   \n",
       "15591  49b61fc963d632  0f5c5f19d9cc21  904cecf36217df        0       0   \n",
       "\n",
       "       damageDealt  DBNOs  headshotKills  heals  killPlace  ...  swimDistance  \\\n",
       "1824         593.0      0              0      3         18  ...           0.0   \n",
       "6673         346.6      0              0      6         33  ...           0.0   \n",
       "11892       1750.0      0              4      5          3  ...           0.0   \n",
       "14631        157.8      0              0      0         69  ...           0.0   \n",
       "15591        100.0      0              1      0         37  ...           0.0   \n",
       "\n",
       "       teamKills  vehicleDestroys  walkDistance  weaponsAcquired winPoints  \\\n",
       "1824           0                0           0.0                8         0   \n",
       "6673           0                0           0.0               22         0   \n",
       "11892          0                0           0.0               13         0   \n",
       "14631          0                0           0.0                7      1500   \n",
       "15591          0                0           0.0               10         0   \n",
       "\n",
       "       winPlacePerc  playerCount  totalDistance  killswithoutMoving  \n",
       "1824         0.8571           58            0.0                True  \n",
       "6673         0.6000           42            0.0                True  \n",
       "11892        0.8947           21            0.0                True  \n",
       "14631        0.0000           73            0.0                True  \n",
       "15591        0.3000           42            0.0                True  \n",
       "\n",
       "[5 rows x 32 columns]"
      ]
     },
     "execution_count": 15,
     "metadata": {},
     "output_type": "execute_result"
    }
   ],
   "source": [
    "df[df['killswithoutMoving']==True].head()"
   ]
  },
  {
   "cell_type": "code",
   "execution_count": 16,
   "id": "95d0f13e-f983-4e74-a933-e5b3e6c21af5",
   "metadata": {},
   "outputs": [],
   "source": [
    "df.drop(df[df['killswithoutMoving']==True].index,inplace=True)"
   ]
  },
  {
   "cell_type": "code",
   "execution_count": 17,
   "id": "cd5467a3-c16b-4808-8f5c-034358a3f96b",
   "metadata": {},
   "outputs": [
    {
     "data": {
      "text/plain": [
       "(0, 32)"
      ]
     },
     "execution_count": 17,
     "metadata": {},
     "output_type": "execute_result"
    }
   ],
   "source": [
    "df[df['killswithoutMoving']==True].shape"
   ]
  },
  {
   "cell_type": "markdown",
   "id": "b838d0b5-323f-4e94-8b94-3e1d62883c61",
   "metadata": {},
   "source": [
    "### Road kills:"
   ]
  },
  {
   "cell_type": "markdown",
   "id": "795648b8-8ce5-4096-862b-dc40a391cf4a",
   "metadata": {},
   "source": [
    "Kills by moving vehicles are very rare and challenging to achieve. Therefore, we will drop those cases"
   ]
  },
  {
   "cell_type": "code",
   "execution_count": 18,
   "id": "2eda3fd3-dd68-423a-a6bc-d5111da2545a",
   "metadata": {},
   "outputs": [],
   "source": [
    "df.drop(df[df['roadKills']>5].index,inplace=True)"
   ]
  },
  {
   "cell_type": "markdown",
   "id": "4b3e628a-2b49-4d0c-98ba-b1b7cc620423",
   "metadata": {},
   "source": [
    "### How many kills:"
   ]
  },
  {
   "cell_type": "code",
   "execution_count": 19,
   "id": "56d36f1f-abc4-461e-9ce6-dff987c807af",
   "metadata": {},
   "outputs": [
    {
     "data": {
      "image/png": "[encoded data removed]",
      "text/plain": [
       "<Figure size 1000x800 with 1 Axes>"
      ]
     },
     "metadata": {},
     "output_type": "display_data"
    }
   ],
   "source": [
    "df1=df[df['kills']>=15]\n",
    "plt.figure(figsize=(10, 8))\n",
    "sns.countplot(data=df1,x=df1['kills'])\n",
    "plt.show()"
   ]
  },
  {
   "cell_type": "markdown",
   "id": "57fd028c-837e-4bd7-b0ee-082d1c1e3876",
   "metadata": {},
   "source": [
    "It's really very difficult to kill more than 20+ in a single match. So, I will remove all those kills >20"
   ]
  },
  {
   "cell_type": "code",
   "execution_count": 20,
   "id": "c6117d26-d76e-494f-9920-8b0e512daa43",
   "metadata": {},
   "outputs": [],
   "source": [
    "df.drop(df[df['kills']>20].index,inplace=True)"
   ]
  },
  {
   "cell_type": "markdown",
   "id": "f2c2a3d7-b5d4-4349-8637-128df59deb26",
   "metadata": {},
   "source": [
    "### Head Shot rate:"
   ]
  },
  {
   "cell_type": "code",
   "execution_count": 21,
   "id": "176d3fb5-1455-4ff8-b17d-ae8b3c66ca96",
   "metadata": {},
   "outputs": [],
   "source": [
    "df['headshot_rate']=df['headshotKills']/df['kills']\n",
    "df['headshot_rate']=df['headshot_rate'].fillna(0)"
   ]
  },
  {
   "cell_type": "code",
   "execution_count": 22,
   "id": "6e5f75c5-70db-4ea5-92dd-245a4f8a17d5",
   "metadata": {},
   "outputs": [
    {
     "data": {
      "image/png": "[encoded data removed]",
      "text/plain": [
       "<Figure size 640x480 with 1 Axes>"
      ]
     },
     "metadata": {},
     "output_type": "display_data"
    }
   ],
   "source": [
    "warnings.filterwarnings(\"ignore\")\n",
    "\n",
    "sns.distplot(df['headshot_rate'])\n",
    "plt.title('Distribution of headshot rate')\n",
    "plt.show()"
   ]
  },
  {
   "cell_type": "markdown",
   "id": "3351adca-ec2e-4214-ada2-12bbe574cb17",
   "metadata": {},
   "source": [
    "Its very rare that player's head shot rate is 1 and all total kills are >5. So, we drop this rows."
   ]
  },
  {
   "cell_type": "code",
   "execution_count": 23,
   "id": "fbc79138-a7fe-41ad-a32b-9b5f451d55c5",
   "metadata": {},
   "outputs": [
    {
     "data": {
      "text/plain": [
       "(187, 33)"
      ]
     },
     "execution_count": 23,
     "metadata": {},
     "output_type": "execute_result"
    }
   ],
   "source": [
    "df[(df['headshot_rate'] ==1) & (df['kills']>5)].shape\n"
   ]
  },
  {
   "cell_type": "code",
   "execution_count": 24,
   "id": "b3b9b4cf-a56d-4fcd-96e5-f3d4020453f9",
   "metadata": {},
   "outputs": [],
   "source": [
    "df.drop(df[(df['headshot_rate'] ==1) & (df['kills']>5)].index,inplace=True)"
   ]
  },
  {
   "cell_type": "code",
   "execution_count": 25,
   "id": "25bec222-6df1-4c34-acf9-feaef9ede44e",
   "metadata": {},
   "outputs": [
    {
     "name": "stdout",
     "output_type": "stream",
     "text": [
      "<class 'pandas.core.frame.DataFrame'>\n",
      "Index: 4444780 entries, 0 to 4446965\n",
      "Data columns (total 33 columns):\n",
      " #   Column              Dtype  \n",
      "---  ------              -----  \n",
      " 0   Id                  object \n",
      " 1   groupId             object \n",
      " 2   matchId             object \n",
      " 3   assists             int64  \n",
      " 4   boosts              int64  \n",
      " 5   damageDealt         float64\n",
      " 6   DBNOs               int64  \n",
      " 7   headshotKills       int64  \n",
      " 8   heals               int64  \n",
      " 9   killPlace           int64  \n",
      " 10  killPoints          int64  \n",
      " 11  kills               int64  \n",
      " 12  killStreaks         int64  \n",
      " 13  longestKill         float64\n",
      " 14  matchDuration       int64  \n",
      " 15  matchType           object \n",
      " 16  maxPlace            int64  \n",
      " 17  numGroups           int64  \n",
      " 18  rankPoints          int64  \n",
      " 19  revives             int64  \n",
      " 20  rideDistance        float64\n",
      " 21  roadKills           int64  \n",
      " 22  swimDistance        float64\n",
      " 23  teamKills           int64  \n",
      " 24  vehicleDestroys     int64  \n",
      " 25  walkDistance        float64\n",
      " 26  weaponsAcquired     int64  \n",
      " 27  winPoints           int64  \n",
      " 28  winPlacePerc        float64\n",
      " 29  playerCount         int64  \n",
      " 30  totalDistance       float64\n",
      " 31  killswithoutMoving  bool   \n",
      " 32  headshot_rate       float64\n",
      "dtypes: bool(1), float64(8), int64(20), object(4)\n",
      "memory usage: 1.1+ GB\n"
     ]
    }
   ],
   "source": [
    "df[(df['headshot_rate'] ==1) & (df['kills']>5)].shape\n",
    "df.info()"
   ]
  },
  {
   "cell_type": "markdown",
   "id": "f7916822-cde9-4fda-beac-2d429063088d",
   "metadata": {},
   "source": [
    "### Longest Kill :"
   ]
  },
  {
   "cell_type": "code",
   "execution_count": null,
   "id": "c2202f31-0b92-4d38-b983-c07e78f93b3e",
   "metadata": {},
   "outputs": [],
   "source": [
    "warnings.filterwarnings(\"ignore\")\n",
    "\n",
    "sns.distplot(df['longestKill'])\n",
    "plt.title('Longest short Distribution plot')\n",
    "plt.show()"
   ]
  },
  {
   "cell_type": "code",
   "execution_count": null,
   "id": "94ee794c-dbe3-4695-8506-10919e017dcb",
   "metadata": {},
   "outputs": [],
   "source": [
    "df[df['longestKill']>500].shape"
   ]
  },
  {
   "cell_type": "code",
   "execution_count": null,
   "id": "e904e9be-ad17-4bce-bc27-f20e356b8a3a",
   "metadata": {},
   "outputs": [],
   "source": [
    "df.drop(df[df['longestKill']>500].index,inplace=True)"
   ]
  },
  {
   "cell_type": "code",
   "execution_count": null,
   "id": "9393c19c-ab06-42ac-9067-789012a17d91",
   "metadata": {},
   "outputs": [],
   "source": [
    "df.info()"
   ]
  },
  {
   "cell_type": "markdown",
   "id": "b54322da-bf0c-4e0e-87dc-165c7a7ead42",
   "metadata": {},
   "source": [
    "### EDA :"
   ]
  },
  {
   "cell_type": "code",
   "execution_count": null,
   "id": "007616f0-5f88-4efe-8aec-d6d9deb7e25b",
   "metadata": {},
   "outputs": [],
   "source": [
    "## Check the dataset shape\n",
    "df.shape"
   ]
  },
  {
   "cell_type": "code",
   "execution_count": null,
   "id": "34870dfc-c8ee-4cde-a97e-2ab32790b8fa",
   "metadata": {},
   "outputs": [],
   "source": [
    "df.isnull().sum()"
   ]
  },
  {
   "cell_type": "code",
   "execution_count": null,
   "id": "0e51b593-e717-42bc-98e2-05d58f75abe2",
   "metadata": {},
   "outputs": [],
   "source": [
    "temp=df.drop(columns=['Id','groupId','matchId'])"
   ]
  },
  {
   "cell_type": "code",
   "execution_count": null,
   "id": "2decc2ef-17b8-4b85-ad01-06b4f34b0b41",
   "metadata": {},
   "outputs": [],
   "source": [
    "numeric_df = df.select_dtypes(include=[np.number])\n",
    "\n",
    "# Set the size of the figure\n",
    "plt.figure(figsize=(20, 20))\n",
    "\n",
    "# Create the heatmap\n",
    "sns.heatmap(numeric_df.corr(), annot=True, cmap='coolwarm')\n",
    "\n",
    "# Display the plot\n",
    "plt.show()"
   ]
  },
  {
   "cell_type": "code",
   "execution_count": null,
   "id": "3c74bff8-7b75-459c-94dd-33efa6d00a82",
   "metadata": {},
   "outputs": [],
   "source": [
    "numeric_df.corr()"
   ]
  },
  {
   "cell_type": "markdown",
   "id": "0f06ebaf-1ac7-4bed-8215-f14ecc4b257c",
   "metadata": {},
   "source": [
    "## Feature Engineering :"
   ]
  },
  {
   "cell_type": "code",
   "execution_count": null,
   "id": "fd67a9cc-bb79-4472-bad2-1ee01f82c4f9",
   "metadata": {},
   "outputs": [],
   "source": [
    "df.info()"
   ]
  },
  {
   "cell_type": "code",
   "execution_count": null,
   "id": "e46ace90-c487-4d22-b13f-32cc777b5aaa",
   "metadata": {},
   "outputs": [],
   "source": [
    "normalising_factor = (100 - df['playerCount']/100)+1"
   ]
  },
  {
   "cell_type": "code",
   "execution_count": null,
   "id": "7ace4c1a-2b50-4187-9531-ab50b3addf65",
   "metadata": {},
   "outputs": [],
   "source": [
    "df['killsNorm'] = df['kills'] * normalising_factor\n",
    "df['damageDealtNorm'] = df['damageDealt'] * normalising_factor\n",
    "df['maxPlaceNorm'] = df['maxPlace'] * normalising_factor\n",
    "df['matchDurationNorm'] = df['matchDuration'] * normalising_factor"
   ]
  },
  {
   "cell_type": "code",
   "execution_count": null,
   "id": "cf4d5886-7f27-4718-ac06-f134ef2dc5cc",
   "metadata": {},
   "outputs": [],
   "source": [
    "df['healsnboosts'] = df['heals'] + df['boosts']\n",
    "df['assist'] = df['assists'] + df['revives']"
   ]
  },
  {
   "cell_type": "code",
   "execution_count": null,
   "id": "41f12dec-7059-486e-883c-b99ee92b95f7",
   "metadata": {},
   "outputs": [],
   "source": [
    "data = df.drop(columns = ['Id', 'groupId', 'matchId', 'assists', 'boosts', 'walkDistance', 'swimDistance', \n",
    "                          'rideDistance', 'heals', 'revives', 'kills', 'damageDealt', 'maxPlace', 'matchDuration'])"
   ]
  },
  {
   "cell_type": "code",
   "execution_count": null,
   "id": "0b288bd1-8538-4907-8ab6-916e6ecbe7db",
   "metadata": {},
   "outputs": [],
   "source": [
    "data.head(2)"
   ]
  },
  {
   "cell_type": "code",
   "execution_count": null,
   "id": "60fc6b8d-68b2-4b9c-aa63-f19d47743638",
   "metadata": {},
   "outputs": [],
   "source": [
    "data.columns"
   ]
  },
  {
   "cell_type": "markdown",
   "id": "c614e1cf-1cec-4669-8780-7c8aab192083",
   "metadata": {},
   "source": [
    "## ML-Catboost Model:"
   ]
  },
  {
   "cell_type": "markdown",
   "id": "a5fa6911-83a3-4cb9-951a-b70cd0e6c774",
   "metadata": {},
   "source": [
    "### split the input an target columns"
   ]
  },
  {
   "cell_type": "code",
   "execution_count": null,
   "id": "7b9790f3-90bf-4b89-a2c9-d302111c6496",
   "metadata": {},
   "outputs": [],
   "source": [
    "x = data.drop(['winPlacePerc'], axis = 1)\n",
    "y = data['winPlacePerc']"
   ]
  },
  {
   "cell_type": "code",
   "execution_count": null,
   "id": "76225514-2089-4986-94f9-b31fa86ee795",
   "metadata": {},
   "outputs": [],
   "source": [
    "x.info()"
   ]
  },
  {
   "cell_type": "markdown",
   "id": "b0dcce00-bf2d-44c9-8dba-124e298208b1",
   "metadata": {},
   "source": [
    "### Handeling the categorical data"
   ]
  },
  {
   "cell_type": "code",
   "execution_count": null,
   "id": "fe45636b-992e-45f9-a3b2-3d8fbf099fb2",
   "metadata": {},
   "outputs": [],
   "source": [
    "x1=x[['matchType','killswithoutMoving']]"
   ]
  },
  {
   "cell_type": "code",
   "execution_count": null,
   "id": "1486f896-0167-4abd-a231-00157a77019d",
   "metadata": {},
   "outputs": [],
   "source": [
    "x1=pd.get_dummies(x1,columns=['matchType','killswithoutMoving'],dtype=int)"
   ]
  },
  {
   "cell_type": "code",
   "execution_count": null,
   "id": "eb60e632-d048-4c0e-b918-c61e59dd8b1f",
   "metadata": {},
   "outputs": [],
   "source": [
    "x2=x.drop(columns=['matchType','killswithoutMoving'])"
   ]
  },
  {
   "cell_type": "code",
   "execution_count": null,
   "id": "9f4aae37-aac3-41c3-9dba-563e7fecab64",
   "metadata": {},
   "outputs": [],
   "source": [
    "org=pd.concat([x1,x2],axis=1)"
   ]
  },
  {
   "cell_type": "code",
   "execution_count": null,
   "id": "cdecdffd-697f-4727-88ff-2e6a9d2f8e94",
   "metadata": {},
   "outputs": [],
   "source": [
    "org.head()"
   ]
  },
  {
   "cell_type": "markdown",
   "id": "a76a3153-5c8e-496d-af34-f4119b6ed67e",
   "metadata": {},
   "source": [
    "### Scaling the data :"
   ]
  },
  {
   "cell_type": "code",
   "execution_count": null,
   "id": "580ba823-ff51-4a39-9cf1-8231b62e7a66",
   "metadata": {},
   "outputs": [],
   "source": [
    "sc=StandardScaler()\n",
    "sc.fit(org)\n",
    "x=pd.DataFrame(sc.transform(org))"
   ]
  },
  {
   "cell_type": "code",
   "execution_count": null,
   "id": "a1e1bab3-c563-4118-888f-6dd6ea89201c",
   "metadata": {},
   "outputs": [],
   "source": [
    "x.head()"
   ]
  },
  {
   "cell_type": "markdown",
   "id": "b6b77eec-1624-48d1-9568-fe8ae227e8bb",
   "metadata": {},
   "source": [
    "### splitting the data:"
   ]
  },
  {
   "cell_type": "code",
   "execution_count": null,
   "id": "c1e6aee8-1c6d-4029-bcf4-c37531809222",
   "metadata": {},
   "outputs": [],
   "source": [
    "xtrain,xtest,ytrain,ytest=train_test_split(x,y,test_size=0.3,random_state=0)"
   ]
  },
  {
   "cell_type": "code",
   "execution_count": null,
   "id": "64d38ce8-e0bd-4f23-89f7-0fc244d88fac",
   "metadata": {},
   "outputs": [],
   "source": [
    "print('shape of train data :',xtrain.shape,ytrain.shape)\n",
    "print('shape of test data :',xtest.shape,ytest.shape)"
   ]
  },
  {
   "cell_type": "markdown",
   "id": "96f9fd1d-58c2-4791-bdb2-502d25cc823b",
   "metadata": {},
   "source": [
    "### Model train:"
   ]
  },
  {
   "cell_type": "code",
   "execution_count": null,
   "id": "134e5a3f-3238-4398-897f-4fbb5e2f255a",
   "metadata": {},
   "outputs": [],
   "source": [
    "import xgboost\n",
    "from xgboost import XGBRegressor"
   ]
  },
  {
   "cell_type": "code",
   "execution_count": null,
   "id": "45e7a80e-cfc8-40ce-97d2-70614a8f4819",
   "metadata": {},
   "outputs": [],
   "source": [
    "model=XGBRegressor()\n",
    "model.fit(xtrain,ytrain)"
   ]
  },
  {
   "cell_type": "code",
   "execution_count": null,
   "id": "77f30f88-1846-47f4-81de-726bfb5d0dc0",
   "metadata": {},
   "outputs": [],
   "source": [
    "y_pred=model.predict(xtest)"
   ]
  },
  {
   "cell_type": "code",
   "execution_count": null,
   "id": "b0772bc7-433b-411b-a801-40ff48b713dd",
   "metadata": {},
   "outputs": [],
   "source": [
    "r2_score(ytest,y_pred)"
   ]
  },
  {
   "cell_type": "markdown",
   "id": "a0f3c9e5-253d-4862-9718-ee095561681c",
   "metadata": {},
   "source": [
    "### Hyper parameter Tuning :"
   ]
  },
  {
   "cell_type": "code",
   "execution_count": null,
   "id": "99238361-519f-4e0f-b8c1-1ffdeddb54bd",
   "metadata": {},
   "outputs": [],
   "source": [
    "In this method we "
   ]
  }
 ],
 "metadata": {
  "kernelspec": {
   "display_name": "Python 3 (ipykernel)",
   "language": "python",
   "name": "python3"
  },
  "language_info": {
   "codemirror_mode": {
    "name": "ipython",
    "version": 3
   },
   "file_extension": ".py",
   "mimetype": "text/x-python",
   "name": "python",
   "nbconvert_exporter": "python",
   "pygments_lexer": "ipython3",
   "version": "3.11.7"
  },
  "widgets": {
   "application/vnd.jupyter.widget-state+json": {
    "state": {},
    "version_major": 2,
    "version_minor": 0
   }
  }
 },
 "nbformat": 4,
 "nbformat_minor": 5
}
